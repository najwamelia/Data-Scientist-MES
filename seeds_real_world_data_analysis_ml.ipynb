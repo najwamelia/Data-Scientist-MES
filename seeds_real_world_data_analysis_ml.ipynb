{
 "cells": [
  {
   "cell_type": "markdown",
   "id": "a9c4eab2",
   "metadata": {},
   "source": [
    "# Seeds Classification"
   ]
  },
  {
   "cell_type": "markdown",
   "id": "70cbad8e",
   "metadata": {},
   "source": [
    "### Contents:\n",
    "\n",
    "* [1 - Problem Formulation](#1)\n",
    "* [2 - Loading the data](#2)\n",
    "* [3 - Exploring Insights in Data or EDA](#3)\n",
    "* [4 - Preprocessing the data](#4)\n",
    "* [5 - Creating and Training](#5)\n",
    "* [6 - Model Evaluation](#6)\n",
    "* [7 - Evaluating the Model on the Test Set](#7)"
   ]
  },
  {
   "cell_type": "markdown",
   "id": "0020d53d",
   "metadata": {},
   "source": [
    "<a name='1'></a>\n",
    "\n",
    "## 1. Problem Formulation"
   ]
  },
  {
   "cell_type": "markdown",
   "id": "0d3610a6",
   "metadata": {},
   "source": [
    "Kelompok yang diperiksa terdiri dari kernel yang termasuk dalam tiga varietas gandum yang berbeda: Kama, Rosa dan Kanada, masing-masing 70 elemen, dipilih secara acak untuk percobaan."
   ]
  },
  {
   "cell_type": "markdown",
   "id": "c4b869a9",
   "metadata": {},
   "source": [
    "<a name='2'></a>\n",
    "\n",
    "## 2. Loading the Data\n",
    "\n",
    "Here are the details of the features. It is 7 features. The target feature is `Class` and it has three classes: `0(Kama), 1(Rosa), 2(Kanada).`"
   ]
  },
  {
   "cell_type": "code",
   "execution_count": 71,
   "id": "e7005869",
   "metadata": {},
   "outputs": [],
   "source": [
    "import numpy as np\n",
    "import pandas as pd\n",
    "import matplotlib.pyplot as plt\n",
    "import seaborn as sns\n",
    "\n",
    "import warnings\n",
    "warnings.filterwarnings('ignore')"
   ]
  },
  {
   "cell_type": "code",
   "execution_count": 72,
   "id": "ab48292e",
   "metadata": {},
   "outputs": [],
   "source": [
    "df = pd.read_csv('seeds_dataset.txt', sep='\\t+', header=None)"
   ]
  },
  {
   "cell_type": "code",
   "execution_count": 73,
   "id": "04658382",
   "metadata": {},
   "outputs": [
    {
     "name": "stdout",
     "output_type": "stream",
     "text": [
      "<class 'pandas.core.frame.DataFrame'>\n",
      "RangeIndex: 210 entries, 0 to 209\n",
      "Data columns (total 8 columns):\n",
      " #   Column  Non-Null Count  Dtype  \n",
      "---  ------  --------------  -----  \n",
      " 0   0       210 non-null    float64\n",
      " 1   1       210 non-null    float64\n",
      " 2   2       210 non-null    float64\n",
      " 3   3       210 non-null    float64\n",
      " 4   4       210 non-null    float64\n",
      " 5   5       210 non-null    float64\n",
      " 6   6       210 non-null    float64\n",
      " 7   7       210 non-null    int64  \n",
      "dtypes: float64(7), int64(1)\n",
      "memory usage: 13.2 KB\n"
     ]
    }
   ],
   "source": [
    "df.info()"
   ]
  },
  {
   "cell_type": "code",
   "execution_count": 74,
   "id": "167936ac",
   "metadata": {},
   "outputs": [],
   "source": [
    "df.columns=['Area','Perimeter','Compactness','Length of kernel','Width of kernel','Asymmetry coefficient','Length of kernel groove','Class']"
   ]
  },
  {
   "cell_type": "code",
   "execution_count": 75,
   "id": "dce9d001",
   "metadata": {},
   "outputs": [
    {
     "data": {
      "text/html": [
       "<div>\n",
       "<style scoped>\n",
       "    .dataframe tbody tr th:only-of-type {\n",
       "        vertical-align: middle;\n",
       "    }\n",
       "\n",
       "    .dataframe tbody tr th {\n",
       "        vertical-align: top;\n",
       "    }\n",
       "\n",
       "    .dataframe thead th {\n",
       "        text-align: right;\n",
       "    }\n",
       "</style>\n",
       "<table border=\"1\" class=\"dataframe\">\n",
       "  <thead>\n",
       "    <tr style=\"text-align: right;\">\n",
       "      <th></th>\n",
       "      <th>Area</th>\n",
       "      <th>Perimeter</th>\n",
       "      <th>Compactness</th>\n",
       "      <th>Length of kernel</th>\n",
       "      <th>Width of kernel</th>\n",
       "      <th>Asymmetry coefficient</th>\n",
       "      <th>Length of kernel groove</th>\n",
       "      <th>Class</th>\n",
       "    </tr>\n",
       "  </thead>\n",
       "  <tbody>\n",
       "    <tr>\n",
       "      <th>0</th>\n",
       "      <td>15.26</td>\n",
       "      <td>14.84</td>\n",
       "      <td>0.8710</td>\n",
       "      <td>5.763</td>\n",
       "      <td>3.312</td>\n",
       "      <td>2.221</td>\n",
       "      <td>5.220</td>\n",
       "      <td>1</td>\n",
       "    </tr>\n",
       "    <tr>\n",
       "      <th>1</th>\n",
       "      <td>14.88</td>\n",
       "      <td>14.57</td>\n",
       "      <td>0.8811</td>\n",
       "      <td>5.554</td>\n",
       "      <td>3.333</td>\n",
       "      <td>1.018</td>\n",
       "      <td>4.956</td>\n",
       "      <td>1</td>\n",
       "    </tr>\n",
       "    <tr>\n",
       "      <th>2</th>\n",
       "      <td>14.29</td>\n",
       "      <td>14.09</td>\n",
       "      <td>0.9050</td>\n",
       "      <td>5.291</td>\n",
       "      <td>3.337</td>\n",
       "      <td>2.699</td>\n",
       "      <td>4.825</td>\n",
       "      <td>1</td>\n",
       "    </tr>\n",
       "    <tr>\n",
       "      <th>3</th>\n",
       "      <td>13.84</td>\n",
       "      <td>13.94</td>\n",
       "      <td>0.8955</td>\n",
       "      <td>5.324</td>\n",
       "      <td>3.379</td>\n",
       "      <td>2.259</td>\n",
       "      <td>4.805</td>\n",
       "      <td>1</td>\n",
       "    </tr>\n",
       "    <tr>\n",
       "      <th>4</th>\n",
       "      <td>16.14</td>\n",
       "      <td>14.99</td>\n",
       "      <td>0.9034</td>\n",
       "      <td>5.658</td>\n",
       "      <td>3.562</td>\n",
       "      <td>1.355</td>\n",
       "      <td>5.175</td>\n",
       "      <td>1</td>\n",
       "    </tr>\n",
       "  </tbody>\n",
       "</table>\n",
       "</div>"
      ],
      "text/plain": [
       "    Area  Perimeter  Compactness  Length of kernel  Width of kernel  \\\n",
       "0  15.26      14.84       0.8710             5.763            3.312   \n",
       "1  14.88      14.57       0.8811             5.554            3.333   \n",
       "2  14.29      14.09       0.9050             5.291            3.337   \n",
       "3  13.84      13.94       0.8955             5.324            3.379   \n",
       "4  16.14      14.99       0.9034             5.658            3.562   \n",
       "\n",
       "   Asymmetry coefficient  Length of kernel groove  Class  \n",
       "0                  2.221                    5.220      1  \n",
       "1                  1.018                    4.956      1  \n",
       "2                  2.699                    4.825      1  \n",
       "3                  2.259                    4.805      1  \n",
       "4                  1.355                    5.175      1  "
      ]
     },
     "execution_count": 75,
     "metadata": {},
     "output_type": "execute_result"
    }
   ],
   "source": [
    "df.head()"
   ]
  },
  {
   "cell_type": "code",
   "execution_count": 76,
   "id": "138d3440",
   "metadata": {},
   "outputs": [
    {
     "data": {
      "text/plain": [
       "1    70\n",
       "2    70\n",
       "3    70\n",
       "Name: Class, dtype: int64"
      ]
     },
     "execution_count": 76,
     "metadata": {},
     "output_type": "execute_result"
    }
   ],
   "source": [
    "df['Class'].value_counts()"
   ]
  },
  {
   "cell_type": "code",
   "execution_count": 77,
   "id": "9a0671b7",
   "metadata": {},
   "outputs": [
    {
     "data": {
      "text/plain": [
       "Area                      -0.346058\n",
       "Perimeter                 -0.327900\n",
       "Compactness               -0.531007\n",
       "Length of kernel          -0.257269\n",
       "Width of kernel           -0.423463\n",
       "Asymmetry coefficient      0.577273\n",
       "Length of kernel groove    0.024301\n",
       "Class                      1.000000\n",
       "Name: Class, dtype: float64"
      ]
     },
     "execution_count": 77,
     "metadata": {},
     "output_type": "execute_result"
    }
   ],
   "source": [
    "correlation = df.corr()\n",
    "correlation['Class']"
   ]
  },
  {
   "cell_type": "code",
   "execution_count": 78,
   "id": "2a101996",
   "metadata": {},
   "outputs": [
    {
     "data": {
      "text/plain": [
       "<AxesSubplot:>"
      ]
     },
     "execution_count": 78,
     "metadata": {},
     "output_type": "execute_result"
    },
    {
     "data": {
      "image/png": "[encoded data removed]",
      "text/plain": [
       "<Figure size 432x288 with 2 Axes>"
      ]
     },
     "metadata": {
      "needs_background": "light"
     },
     "output_type": "display_data"
    }
   ],
   "source": [
    "sns.heatmap(df.corr())"
   ]
  },
  {
   "cell_type": "code",
   "execution_count": 79,
   "id": "f9a8c31b",
   "metadata": {},
   "outputs": [],
   "source": [
    "df1 = df.drop(columns=['Area','Perimeter','Compactness','Length of kernel','Width of kernel'])"
   ]
  },
  {
   "cell_type": "code",
   "execution_count": 80,
   "id": "530098ec",
   "metadata": {},
   "outputs": [
    {
     "data": {
      "text/html": [
       "<div>\n",
       "<style scoped>\n",
       "    .dataframe tbody tr th:only-of-type {\n",
       "        vertical-align: middle;\n",
       "    }\n",
       "\n",
       "    .dataframe tbody tr th {\n",
       "        vertical-align: top;\n",
       "    }\n",
       "\n",
       "    .dataframe thead th {\n",
       "        text-align: right;\n",
       "    }\n",
       "</style>\n",
       "<table border=\"1\" class=\"dataframe\">\n",
       "  <thead>\n",
       "    <tr style=\"text-align: right;\">\n",
       "      <th></th>\n",
       "      <th>Asymmetry coefficient</th>\n",
       "      <th>Length of kernel groove</th>\n",
       "      <th>Class</th>\n",
       "    </tr>\n",
       "  </thead>\n",
       "  <tbody>\n",
       "    <tr>\n",
       "      <th>0</th>\n",
       "      <td>2.221</td>\n",
       "      <td>5.220</td>\n",
       "      <td>1</td>\n",
       "    </tr>\n",
       "    <tr>\n",
       "      <th>1</th>\n",
       "      <td>1.018</td>\n",
       "      <td>4.956</td>\n",
       "      <td>1</td>\n",
       "    </tr>\n",
       "    <tr>\n",
       "      <th>2</th>\n",
       "      <td>2.699</td>\n",
       "      <td>4.825</td>\n",
       "      <td>1</td>\n",
       "    </tr>\n",
       "    <tr>\n",
       "      <th>3</th>\n",
       "      <td>2.259</td>\n",
       "      <td>4.805</td>\n",
       "      <td>1</td>\n",
       "    </tr>\n",
       "    <tr>\n",
       "      <th>4</th>\n",
       "      <td>1.355</td>\n",
       "      <td>5.175</td>\n",
       "      <td>1</td>\n",
       "    </tr>\n",
       "  </tbody>\n",
       "</table>\n",
       "</div>"
      ],
      "text/plain": [
       "   Asymmetry coefficient  Length of kernel groove  Class\n",
       "0                  2.221                    5.220      1\n",
       "1                  1.018                    4.956      1\n",
       "2                  2.699                    4.825      1\n",
       "3                  2.259                    4.805      1\n",
       "4                  1.355                    5.175      1"
      ]
     },
     "execution_count": 80,
     "metadata": {},
     "output_type": "execute_result"
    }
   ],
   "source": [
    "df1.head()"
   ]
  },
  {
   "cell_type": "code",
   "execution_count": 81,
   "id": "f8f2ea30",
   "metadata": {},
   "outputs": [],
   "source": [
    "from sklearn.model_selection import train_test_split\n",
    "\n",
    "seeds_train, seeds_test = train_test_split(df1, test_size=0.2,random_state=20)"
   ]
  },
  {
   "cell_type": "code",
   "execution_count": 82,
   "id": "28e03dc5",
   "metadata": {},
   "outputs": [
    {
     "name": "stdout",
     "output_type": "stream",
     "text": [
      "The size of training data is: 168 \n",
      "The size of testing data is: 42\n"
     ]
    }
   ],
   "source": [
    "# Checking the number of data points/size of the data\n",
    "print('The size of training data is: {} \\nThe size of testing data is: {}'.format(len(seeds_train), len(seeds_test)))"
   ]
  },
  {
   "cell_type": "markdown",
   "id": "8beb5e54",
   "metadata": {},
   "source": [
    "<a name='3'></a>\n",
    "\n",
    "## 3. Exploring Insights in Data or EDA"
   ]
  },
  {
   "cell_type": "code",
   "execution_count": 83,
   "id": "5b1f1092",
   "metadata": {},
   "outputs": [],
   "source": [
    "train_data = seeds_train.copy()"
   ]
  },
  {
   "cell_type": "code",
   "execution_count": 84,
   "id": "460523bf",
   "metadata": {},
   "outputs": [
    {
     "data": {
      "text/html": [
       "<div>\n",
       "<style scoped>\n",
       "    .dataframe tbody tr th:only-of-type {\n",
       "        vertical-align: middle;\n",
       "    }\n",
       "\n",
       "    .dataframe tbody tr th {\n",
       "        vertical-align: top;\n",
       "    }\n",
       "\n",
       "    .dataframe thead th {\n",
       "        text-align: right;\n",
       "    }\n",
       "</style>\n",
       "<table border=\"1\" class=\"dataframe\">\n",
       "  <thead>\n",
       "    <tr style=\"text-align: right;\">\n",
       "      <th></th>\n",
       "      <th>Asymmetry coefficient</th>\n",
       "      <th>Length of kernel groove</th>\n",
       "      <th>Class</th>\n",
       "    </tr>\n",
       "  </thead>\n",
       "  <tbody>\n",
       "    <tr>\n",
       "      <th>count</th>\n",
       "      <td>168.000000</td>\n",
       "      <td>168.000000</td>\n",
       "      <td>168.000000</td>\n",
       "    </tr>\n",
       "    <tr>\n",
       "      <th>mean</th>\n",
       "      <td>3.587507</td>\n",
       "      <td>5.386458</td>\n",
       "      <td>1.988095</td>\n",
       "    </tr>\n",
       "    <tr>\n",
       "      <th>std</th>\n",
       "      <td>1.472480</td>\n",
       "      <td>0.493802</td>\n",
       "      <td>0.833348</td>\n",
       "    </tr>\n",
       "    <tr>\n",
       "      <th>min</th>\n",
       "      <td>0.765100</td>\n",
       "      <td>4.519000</td>\n",
       "      <td>1.000000</td>\n",
       "    </tr>\n",
       "    <tr>\n",
       "      <th>25%</th>\n",
       "      <td>2.339000</td>\n",
       "      <td>5.003000</td>\n",
       "      <td>1.000000</td>\n",
       "    </tr>\n",
       "    <tr>\n",
       "      <th>50%</th>\n",
       "      <td>3.528500</td>\n",
       "      <td>5.219500</td>\n",
       "      <td>2.000000</td>\n",
       "    </tr>\n",
       "    <tr>\n",
       "      <th>75%</th>\n",
       "      <td>4.683250</td>\n",
       "      <td>5.850000</td>\n",
       "      <td>3.000000</td>\n",
       "    </tr>\n",
       "    <tr>\n",
       "      <th>max</th>\n",
       "      <td>8.456000</td>\n",
       "      <td>6.550000</td>\n",
       "      <td>3.000000</td>\n",
       "    </tr>\n",
       "  </tbody>\n",
       "</table>\n",
       "</div>"
      ],
      "text/plain": [
       "       Asymmetry coefficient  Length of kernel groove       Class\n",
       "count             168.000000               168.000000  168.000000\n",
       "mean                3.587507                 5.386458    1.988095\n",
       "std                 1.472480                 0.493802    0.833348\n",
       "min                 0.765100                 4.519000    1.000000\n",
       "25%                 2.339000                 5.003000    1.000000\n",
       "50%                 3.528500                 5.219500    2.000000\n",
       "75%                 4.683250                 5.850000    3.000000\n",
       "max                 8.456000                 6.550000    3.000000"
      ]
     },
     "execution_count": 84,
     "metadata": {},
     "output_type": "execute_result"
    }
   ],
   "source": [
    "seeds_train.describe()"
   ]
  },
  {
   "cell_type": "code",
   "execution_count": 85,
   "id": "388bdf0b",
   "metadata": {},
   "outputs": [
    {
     "data": {
      "text/plain": [
       "Asymmetry coefficient      0\n",
       "Length of kernel groove    0\n",
       "Class                      0\n",
       "dtype: int64"
      ]
     },
     "execution_count": 85,
     "metadata": {},
     "output_type": "execute_result"
    }
   ],
   "source": [
    "seeds_train.isna().sum()"
   ]
  },
  {
   "cell_type": "code",
   "execution_count": 86,
   "id": "a6e35a59",
   "metadata": {},
   "outputs": [
    {
     "data": {
      "text/plain": [
       "Asymmetry coefficient      0.554562\n",
       "Length of kernel groove    0.009035\n",
       "Class                      1.000000\n",
       "Name: Class, dtype: float64"
      ]
     },
     "execution_count": 86,
     "metadata": {},
     "output_type": "execute_result"
    }
   ],
   "source": [
    "correlation = seeds_train.corr()\n",
    "correlation['Class']"
   ]
  },
  {
   "cell_type": "code",
   "execution_count": 87,
   "id": "c2c19c59",
   "metadata": {},
   "outputs": [
    {
     "data": {
      "text/plain": [
       "<AxesSubplot:>"
      ]
     },
     "execution_count": 87,
     "metadata": {},
     "output_type": "execute_result"
    },
    {
     "data": {
      "image/png": "[encoded data removed]",
      "text/plain": [
       "<Figure size 432x288 with 2 Axes>"
      ]
     },
     "metadata": {
      "needs_background": "light"
     },
     "output_type": "display_data"
    }
   ],
   "source": [
    "sns.heatmap(correlation, annot=True, cmap='Blues')"
   ]
  },
  {
   "cell_type": "markdown",
   "id": "e14d4b22",
   "metadata": {},
   "source": [
    "#### More Data Exploration"
   ]
  },
  {
   "cell_type": "code",
   "execution_count": 88,
   "id": "c24fb863",
   "metadata": {},
   "outputs": [
    {
     "data": {
      "text/plain": [
       "1    59\n",
       "3    57\n",
       "2    52\n",
       "Name: Class, dtype: int64"
      ]
     },
     "execution_count": 88,
     "metadata": {},
     "output_type": "execute_result"
    }
   ],
   "source": [
    "seeds_train['Class'].value_counts()"
   ]
  },
  {
   "cell_type": "code",
   "execution_count": 89,
   "id": "38ba4c20",
   "metadata": {},
   "outputs": [
    {
     "data": {
      "text/plain": [
       "Text(0.5, 1.0, 'Class Ranges')"
      ]
     },
     "execution_count": 89,
     "metadata": {},
     "output_type": "execute_result"
    },
    {
     "data": {
      "image/png": "[encoded data removed]",
      "text/plain": [
       "<Figure size 432x288 with 1 Axes>"
      ]
     },
     "metadata": {
      "needs_background": "light"
     },
     "output_type": "display_data"
    }
   ],
   "source": [
    "sns.countplot(seeds_train['Class'])\n",
    "plt.title('Class Ranges')"
   ]
  },
  {
   "cell_type": "code",
   "execution_count": 90,
   "id": "71a045b4",
   "metadata": {
    "scrolled": true
   },
   "outputs": [
    {
     "data": {
      "text/plain": [
       "<AxesSubplot:xlabel='Asymmetry coefficient', ylabel='Length of kernel groove'>"
      ]
     },
     "execution_count": 90,
     "metadata": {},
     "output_type": "execute_result"
    },
    {
     "data": {
      "image/png": "[encoded data removed]",
      "text/plain": [
       "<Figure size 432x288 with 1 Axes>"
      ]
     },
     "metadata": {
      "needs_background": "light"
     },
     "output_type": "display_data"
    }
   ],
   "source": [
    "sns.scatterplot(data=df1, x='Asymmetry coefficient', y='Length of kernel groove', hue='Class')"
   ]
  },
  {
   "cell_type": "code",
   "execution_count": 91,
   "id": "f68c807c",
   "metadata": {},
   "outputs": [
    {
     "data": {
      "image/png": "[encoded data removed]",
      "text/plain": [
       "<Figure size 432x288 with 1 Axes>"
      ]
     },
     "metadata": {
      "needs_background": "light"
     },
     "output_type": "display_data"
    },
    {
     "data": {
      "image/png": "[encoded data removed]",
      "text/plain": [
       "<Figure size 432x288 with 1 Axes>"
      ]
     },
     "metadata": {
      "needs_background": "light"
     },
     "output_type": "display_data"
    },
    {
     "data": {
      "image/png": "[encoded data removed]",
      "text/plain": [
       "<Figure size 432x288 with 1 Axes>"
      ]
     },
     "metadata": {
      "needs_background": "light"
     },
     "output_type": "display_data"
    }
   ],
   "source": [
    "for i in df1.columns:\n",
    "    sns.kdeplot(df1[i])\n",
    "    plt.show()"
   ]
  },
  {
   "cell_type": "markdown",
   "id": "a618226b",
   "metadata": {},
   "source": [
    "<a name='4'></a>\n",
    "\n",
    "## 4. Data Preprocessing"
   ]
  },
  {
   "cell_type": "code",
   "execution_count": 92,
   "id": "91b613c2",
   "metadata": {},
   "outputs": [],
   "source": [
    "training_input_data = seeds_train.drop('Class', axis=1)\n",
    "training_labels = seeds_train['Class']"
   ]
  },
  {
   "cell_type": "code",
   "execution_count": 93,
   "id": "0108c717",
   "metadata": {},
   "outputs": [],
   "source": [
    "from sklearn.preprocessing import MinMaxScaler\n",
    "\n",
    "scaler = MinMaxScaler()\n",
    "\n",
    "def scale_feats(num_input_data):\n",
    "    \n",
    "    normalized_data = scaler.fit_transform(num_input_data)\n",
    "\n",
    "    return normalized_data"
   ]
  },
  {
   "cell_type": "code",
   "execution_count": 94,
   "id": "9f7dcc45",
   "metadata": {},
   "outputs": [],
   "source": [
    "training_final = scale_feats(training_input_data)"
   ]
  },
  {
   "cell_type": "code",
   "execution_count": 167,
   "id": "941d44be",
   "metadata": {},
   "outputs": [
    {
     "data": {
      "text/plain": [
       "0.3970445317211672"
      ]
     },
     "execution_count": 167,
     "metadata": {},
     "output_type": "execute_result"
    }
   ],
   "source": [
    "training_final.mean()"
   ]
  },
  {
   "cell_type": "markdown",
   "id": "64c192cd",
   "metadata": {},
   "source": [
    "<a name='5'></a>\n",
    "\n",
    "## 5. Creating and Training"
   ]
  },
  {
   "cell_type": "markdown",
   "id": "3c7089f1",
   "metadata": {},
   "source": [
    "#### Logistic classifier"
   ]
  },
  {
   "cell_type": "code",
   "execution_count": 96,
   "id": "745fa34c",
   "metadata": {},
   "outputs": [
    {
     "data": {
      "text/plain": [
       "LogisticRegression()"
      ]
     },
     "execution_count": 96,
     "metadata": {},
     "output_type": "execute_result"
    }
   ],
   "source": [
    "from sklearn.linear_model import LogisticRegression\n",
    "\n",
    "log_model = LogisticRegression()\n",
    "log_model.fit(training_final, training_labels)"
   ]
  },
  {
   "cell_type": "code",
   "execution_count": 100,
   "id": "287b6383",
   "metadata": {},
   "outputs": [],
   "source": [
    "log1 = log_model.score(training_final, training_labels)"
   ]
  },
  {
   "cell_type": "code",
   "execution_count": 101,
   "id": "0cf5be0a",
   "metadata": {},
   "outputs": [
    {
     "data": {
      "text/plain": [
       "0.8333333333333334"
      ]
     },
     "execution_count": 101,
     "metadata": {},
     "output_type": "execute_result"
    }
   ],
   "source": [
    "log1"
   ]
  },
  {
   "cell_type": "markdown",
   "id": "5e3e5a87",
   "metadata": {},
   "source": [
    "#### SGD (Stockastic Gradient Descent) classifier"
   ]
  },
  {
   "cell_type": "code",
   "execution_count": 102,
   "id": "c84d6309",
   "metadata": {},
   "outputs": [
    {
     "data": {
      "text/plain": [
       "SGDClassifier()"
      ]
     },
     "execution_count": 102,
     "metadata": {},
     "output_type": "execute_result"
    }
   ],
   "source": [
    "from sklearn.linear_model import SGDClassifier\n",
    "\n",
    "sgd_clf = SGDClassifier()\n",
    "sgd_clf.fit(training_final, training_labels)"
   ]
  },
  {
   "cell_type": "code",
   "execution_count": 103,
   "id": "b7777d1d",
   "metadata": {},
   "outputs": [],
   "source": [
    "sgd1 = sgd_clf.score(training_final, training_labels)"
   ]
  },
  {
   "cell_type": "code",
   "execution_count": 104,
   "id": "353d8ce2",
   "metadata": {},
   "outputs": [
    {
     "data": {
      "text/plain": [
       "0.8392857142857143"
      ]
     },
     "execution_count": 104,
     "metadata": {},
     "output_type": "execute_result"
    }
   ],
   "source": [
    "sgd1"
   ]
  },
  {
   "cell_type": "markdown",
   "id": "a4f04b2d",
   "metadata": {},
   "source": [
    "#### Decision Tree Classifier"
   ]
  },
  {
   "cell_type": "code",
   "execution_count": 105,
   "id": "a0206c44",
   "metadata": {},
   "outputs": [
    {
     "data": {
      "text/plain": [
       "DecisionTreeClassifier()"
      ]
     },
     "execution_count": 105,
     "metadata": {},
     "output_type": "execute_result"
    }
   ],
   "source": [
    "from sklearn.tree import DecisionTreeClassifier\n",
    "\n",
    "tree_clf = DecisionTreeClassifier()\n",
    "tree_clf.fit(training_final, training_labels)"
   ]
  },
  {
   "cell_type": "code",
   "execution_count": 106,
   "id": "6b8a4eb8",
   "metadata": {
    "scrolled": true
   },
   "outputs": [],
   "source": [
    "tree1 = tree_clf.score(training_final, training_labels)"
   ]
  },
  {
   "cell_type": "code",
   "execution_count": 107,
   "id": "f55d766a",
   "metadata": {},
   "outputs": [
    {
     "data": {
      "text/plain": [
       "1.0"
      ]
     },
     "execution_count": 107,
     "metadata": {},
     "output_type": "execute_result"
    }
   ],
   "source": [
    "tree1"
   ]
  },
  {
   "cell_type": "markdown",
   "id": "74edff5d",
   "metadata": {},
   "source": [
    "#### SVM Classifier"
   ]
  },
  {
   "cell_type": "code",
   "execution_count": 177,
   "id": "ae520798",
   "metadata": {},
   "outputs": [
    {
     "data": {
      "text/plain": [
       "LinearSVC()"
      ]
     },
     "execution_count": 177,
     "metadata": {},
     "output_type": "execute_result"
    }
   ],
   "source": [
    "from sklearn.svm import LinearSVC\n",
    "\n",
    "lin_svc = LinearSVC()\n",
    "lin_svc.fit(training_final, training_labels)"
   ]
  },
  {
   "cell_type": "code",
   "execution_count": 178,
   "id": "5f2867aa",
   "metadata": {},
   "outputs": [],
   "source": [
    "svc1 = lin_svc.score(training_final, training_labels)"
   ]
  },
  {
   "cell_type": "code",
   "execution_count": 179,
   "id": "007ee226",
   "metadata": {},
   "outputs": [
    {
     "data": {
      "text/plain": [
       "0.8452380952380952"
      ]
     },
     "execution_count": 179,
     "metadata": {},
     "output_type": "execute_result"
    }
   ],
   "source": [
    "svc1"
   ]
  },
  {
   "cell_type": "markdown",
   "id": "d7883bd6",
   "metadata": {},
   "source": [
    "#### Random Forest Classifier"
   ]
  },
  {
   "cell_type": "code",
   "execution_count": 174,
   "id": "8a153b64",
   "metadata": {},
   "outputs": [
    {
     "data": {
      "text/plain": [
       "RandomForestClassifier()"
      ]
     },
     "execution_count": 174,
     "metadata": {},
     "output_type": "execute_result"
    }
   ],
   "source": [
    "from sklearn.ensemble import RandomForestClassifier\n",
    "\n",
    "forest_clf = RandomForestClassifier()\n",
    "forest_clf.fit(training_final, training_labels)"
   ]
  },
  {
   "cell_type": "code",
   "execution_count": 175,
   "id": "fd30599e",
   "metadata": {},
   "outputs": [],
   "source": [
    "rfc1 = forest_clf.score(training_final, training_labels)"
   ]
  },
  {
   "cell_type": "code",
   "execution_count": 176,
   "id": "ecd33370",
   "metadata": {},
   "outputs": [
    {
     "data": {
      "text/plain": [
       "1.0"
      ]
     },
     "execution_count": 176,
     "metadata": {},
     "output_type": "execute_result"
    }
   ],
   "source": [
    "rfc1"
   ]
  },
  {
   "cell_type": "markdown",
   "id": "5be12db5",
   "metadata": {},
   "source": [
    "<a name='6'></a>\n",
    "\n",
    "## 6.  Model Evaluation"
   ]
  },
  {
   "cell_type": "markdown",
   "id": "23672fde",
   "metadata": {},
   "source": [
    "* cross validation on the **Logistic Regression**"
   ]
  },
  {
   "cell_type": "code",
   "execution_count": 114,
   "id": "d3915267",
   "metadata": {},
   "outputs": [],
   "source": [
    "from sklearn.model_selection import cross_val_score\n",
    "\n",
    "log_scores = cross_val_score(log_model, training_final, training_labels, cv=10)"
   ]
  },
  {
   "cell_type": "code",
   "execution_count": 115,
   "id": "bb744250",
   "metadata": {},
   "outputs": [
    {
     "data": {
      "text/plain": [
       "array([0.76470588, 0.88235294, 0.88235294, 1.        , 0.82352941,\n",
       "       0.82352941, 0.82352941, 0.88235294, 0.8125    , 0.75      ])"
      ]
     },
     "execution_count": 115,
     "metadata": {},
     "output_type": "execute_result"
    }
   ],
   "source": [
    "log_scores"
   ]
  },
  {
   "cell_type": "code",
   "execution_count": 116,
   "id": "4486fdc7",
   "metadata": {},
   "outputs": [],
   "source": [
    "log2 = log_scores.mean()"
   ]
  },
  {
   "cell_type": "code",
   "execution_count": 117,
   "id": "1a367a12",
   "metadata": {},
   "outputs": [
    {
     "data": {
      "text/plain": [
       "0.8444852941176471"
      ]
     },
     "execution_count": 117,
     "metadata": {},
     "output_type": "execute_result"
    }
   ],
   "source": [
    "log2"
   ]
  },
  {
   "cell_type": "markdown",
   "id": "7504c9dc",
   "metadata": {},
   "source": [
    "* cross validation on the **SGD Classifier model**"
   ]
  },
  {
   "cell_type": "code",
   "execution_count": 118,
   "id": "950e2c5d",
   "metadata": {},
   "outputs": [],
   "source": [
    "from sklearn.model_selection import cross_val_score\n",
    "\n",
    "sgd_scores = cross_val_score(sgd_clf, training_final, training_labels, cv=10)"
   ]
  },
  {
   "cell_type": "code",
   "execution_count": 119,
   "id": "f10b2794",
   "metadata": {},
   "outputs": [
    {
     "data": {
      "text/plain": [
       "array([0.76470588, 0.76470588, 0.94117647, 0.88235294, 0.76470588,\n",
       "       0.64705882, 0.82352941, 0.88235294, 0.8125    , 0.75      ])"
      ]
     },
     "execution_count": 119,
     "metadata": {},
     "output_type": "execute_result"
    }
   ],
   "source": [
    "sgd_scores"
   ]
  },
  {
   "cell_type": "code",
   "execution_count": 120,
   "id": "8fd95f6b",
   "metadata": {},
   "outputs": [],
   "source": [
    "sgd2 = sgd_scores.mean()"
   ]
  },
  {
   "cell_type": "code",
   "execution_count": 121,
   "id": "28baec48",
   "metadata": {},
   "outputs": [
    {
     "data": {
      "text/plain": [
       "0.8033088235294116"
      ]
     },
     "execution_count": 121,
     "metadata": {},
     "output_type": "execute_result"
    }
   ],
   "source": [
    "sgd2"
   ]
  },
  {
   "cell_type": "markdown",
   "id": "9535b758",
   "metadata": {},
   "source": [
    "* cross validation on the **Decission Tree Classifier model**"
   ]
  },
  {
   "cell_type": "code",
   "execution_count": 122,
   "id": "a632aea7",
   "metadata": {},
   "outputs": [],
   "source": [
    "from sklearn.model_selection import cross_val_score\n",
    "\n",
    "tree_scores = cross_val_score(tree_clf, training_final, training_labels, cv=10)"
   ]
  },
  {
   "cell_type": "code",
   "execution_count": 123,
   "id": "18a9e9e8",
   "metadata": {},
   "outputs": [
    {
     "data": {
      "text/plain": [
       "array([0.76470588, 0.70588235, 0.76470588, 0.94117647, 0.76470588,\n",
       "       0.76470588, 0.70588235, 0.88235294, 0.625     , 0.75      ])"
      ]
     },
     "execution_count": 123,
     "metadata": {},
     "output_type": "execute_result"
    }
   ],
   "source": [
    "tree_scores"
   ]
  },
  {
   "cell_type": "code",
   "execution_count": 124,
   "id": "a36306e4",
   "metadata": {
    "scrolled": true
   },
   "outputs": [],
   "source": [
    "tree2 = tree_scores.mean()"
   ]
  },
  {
   "cell_type": "code",
   "execution_count": 125,
   "id": "ca889710",
   "metadata": {},
   "outputs": [
    {
     "data": {
      "text/plain": [
       "0.7669117647058824"
      ]
     },
     "execution_count": 125,
     "metadata": {},
     "output_type": "execute_result"
    }
   ],
   "source": [
    "tree2"
   ]
  },
  {
   "cell_type": "markdown",
   "id": "41bf6387",
   "metadata": {},
   "source": [
    "* cross validation on the **Support Vector Classifier model**"
   ]
  },
  {
   "cell_type": "code",
   "execution_count": 126,
   "id": "b49abeec",
   "metadata": {},
   "outputs": [],
   "source": [
    "from sklearn.model_selection import cross_val_score\n",
    "\n",
    "svc_scores = cross_val_score(lin_svc, training_final, training_labels, cv=10)"
   ]
  },
  {
   "cell_type": "code",
   "execution_count": 127,
   "id": "4bfc7ea6",
   "metadata": {},
   "outputs": [
    {
     "data": {
      "text/plain": [
       "array([0.76470588, 0.88235294, 0.88235294, 1.        , 0.82352941,\n",
       "       0.82352941, 0.76470588, 0.88235294, 0.8125    , 0.75      ])"
      ]
     },
     "execution_count": 127,
     "metadata": {},
     "output_type": "execute_result"
    }
   ],
   "source": [
    "svc_scores"
   ]
  },
  {
   "cell_type": "code",
   "execution_count": 128,
   "id": "cc266d14",
   "metadata": {},
   "outputs": [],
   "source": [
    "svc2 = svc_scores.mean()"
   ]
  },
  {
   "cell_type": "code",
   "execution_count": 129,
   "id": "c919fc1f",
   "metadata": {},
   "outputs": [
    {
     "data": {
      "text/plain": [
       "0.8386029411764706"
      ]
     },
     "execution_count": 129,
     "metadata": {},
     "output_type": "execute_result"
    }
   ],
   "source": [
    "svc2"
   ]
  },
  {
   "cell_type": "markdown",
   "id": "283961d2",
   "metadata": {},
   "source": [
    "* cross validation on the **Random Forest Classifier model**"
   ]
  },
  {
   "cell_type": "code",
   "execution_count": 130,
   "id": "3d76d1c8",
   "metadata": {},
   "outputs": [],
   "source": [
    "from sklearn.model_selection import cross_val_score\n",
    "\n",
    "rfc_scores = cross_val_score(forest_clf, training_final, training_labels, cv=10)"
   ]
  },
  {
   "cell_type": "code",
   "execution_count": 131,
   "id": "7b0351f0",
   "metadata": {},
   "outputs": [],
   "source": [
    "rfc2 = rfc_scores.mean()"
   ]
  },
  {
   "cell_type": "code",
   "execution_count": 132,
   "id": "8741a836",
   "metadata": {},
   "outputs": [
    {
     "data": {
      "text/plain": [
       "0.8088235294117647"
      ]
     },
     "execution_count": 132,
     "metadata": {},
     "output_type": "execute_result"
    }
   ],
   "source": [
    "rfc2"
   ]
  },
  {
   "cell_type": "markdown",
   "id": "741aa4db",
   "metadata": {},
   "source": [
    "### Classification Performance Metrics\n",
    "\n",
    "Here are commom classification metrics:\n",
    "\n",
    "* Accuracy \n",
    "* Precision / Recall\n",
    "* F1 Score\n"
   ]
  },
  {
   "cell_type": "markdown",
   "id": "cc0ede9f",
   "metadata": {},
   "source": [
    "#### Linear Classifier"
   ]
  },
  {
   "cell_type": "code",
   "execution_count": 47,
   "id": "b351981f",
   "metadata": {},
   "outputs": [],
   "source": [
    "from sklearn.model_selection import cross_val_predict\n",
    "\n",
    "# cv is the number of subsets/folds \n",
    "\n",
    "predictions_on_train = cross_val_predict(log_model, training_final, training_labels, cv=10)"
   ]
  },
  {
   "cell_type": "code",
   "execution_count": 48,
   "id": "91bf8e8d",
   "metadata": {
    "scrolled": true
   },
   "outputs": [
    {
     "data": {
      "text/plain": [
       "array([[47,  1, 11],\n",
       "       [ 1, 51,  0],\n",
       "       [13,  0, 44]], dtype=int64)"
      ]
     },
     "execution_count": 48,
     "metadata": {},
     "output_type": "execute_result"
    }
   ],
   "source": [
    "from sklearn.metrics import confusion_matrix\n",
    "\n",
    "confusion_matrix(training_labels, predictions_on_train)"
   ]
  },
  {
   "cell_type": "code",
   "execution_count": 49,
   "id": "fd31e783",
   "metadata": {
    "scrolled": true
   },
   "outputs": [
    {
     "data": {
      "image/png": "[encoded data removed]",
      "text/plain": [
       "<Figure size 432x288 with 2 Axes>"
      ]
     },
     "metadata": {
      "needs_background": "light"
     },
     "output_type": "display_data"
    }
   ],
   "source": [
    "cm = confusion_matrix(training_labels, predictions_on_train)\n",
    "\n",
    "sns.heatmap(cm, square=True, annot=True, fmt='d', cbar=True,\n",
    "                        xticklabels=['0(Kama)', '1(Rosa)', '2(Kanada)'],\n",
    "                        yticklabels=['0(Kama)', '1(Rosa)', '2(Kanada)'])\n",
    "plt.ylabel('actual label')\n",
    "plt.xlabel('predicted label');"
   ]
  },
  {
   "cell_type": "code",
   "execution_count": 50,
   "id": "8682b84a",
   "metadata": {},
   "outputs": [
    {
     "data": {
      "text/plain": [
       "0.8452380952380952"
      ]
     },
     "execution_count": 50,
     "metadata": {},
     "output_type": "execute_result"
    }
   ],
   "source": [
    "from sklearn.metrics import accuracy_score\n",
    "\n",
    "accuracy_score(training_labels, predictions_on_train)"
   ]
  },
  {
   "cell_type": "code",
   "execution_count": 51,
   "id": "16bcb28c",
   "metadata": {},
   "outputs": [
    {
     "name": "stdout",
     "output_type": "stream",
     "text": [
      "              precision    recall  f1-score   support\n",
      "\n",
      "           1       0.77      0.80      0.78        59\n",
      "           2       0.98      0.98      0.98        52\n",
      "           3       0.80      0.77      0.79        57\n",
      "\n",
      "    accuracy                           0.85       168\n",
      "   macro avg       0.85      0.85      0.85       168\n",
      "weighted avg       0.85      0.85      0.85       168\n",
      "\n"
     ]
    }
   ],
   "source": [
    "from sklearn.metrics import classification_report\n",
    "\n",
    "print(classification_report(training_labels, predictions_on_train))"
   ]
  },
  {
   "cell_type": "markdown",
   "id": "6f7f67af",
   "metadata": {},
   "source": [
    "#### Support Vector Classifier"
   ]
  },
  {
   "cell_type": "code",
   "execution_count": 52,
   "id": "19a3726c",
   "metadata": {},
   "outputs": [],
   "source": [
    "predictions_on_train_svc = cross_val_predict(lin_svc, training_final, training_labels, cv=10)"
   ]
  },
  {
   "cell_type": "code",
   "execution_count": 53,
   "id": "fb797edf",
   "metadata": {},
   "outputs": [
    {
     "data": {
      "text/plain": [
       "array([[46,  2, 11],\n",
       "       [ 0, 51,  1],\n",
       "       [12,  1, 44]], dtype=int64)"
      ]
     },
     "execution_count": 53,
     "metadata": {},
     "output_type": "execute_result"
    }
   ],
   "source": [
    "confusion_matrix(training_labels, predictions_on_train_svc)"
   ]
  },
  {
   "cell_type": "code",
   "execution_count": 54,
   "id": "6c4cf29c",
   "metadata": {},
   "outputs": [
    {
     "data": {
      "image/png": "[encoded data removed]",
      "text/plain": [
       "<Figure size 432x288 with 2 Axes>"
      ]
     },
     "metadata": {
      "needs_background": "light"
     },
     "output_type": "display_data"
    }
   ],
   "source": [
    "cm = confusion_matrix(training_labels, predictions_on_train_svc)\n",
    "\n",
    "sns.heatmap(cm, square=True, annot=True, fmt='d', cbar=True,\n",
    "                        xticklabels=['0(Kama)', '1(Rosa)', '2(Kanada)'],\n",
    "                        yticklabels=['0(Kama)', '1(Rosa)', '2(Kanada)'])\n",
    "plt.ylabel('actual label')\n",
    "plt.xlabel('predicted label');"
   ]
  },
  {
   "cell_type": "code",
   "execution_count": 55,
   "id": "9ae36e69",
   "metadata": {},
   "outputs": [
    {
     "data": {
      "text/plain": [
       "0.8392857142857143"
      ]
     },
     "execution_count": 55,
     "metadata": {},
     "output_type": "execute_result"
    }
   ],
   "source": [
    "from sklearn.metrics import accuracy_score\n",
    "\n",
    "accuracy_score(training_labels, predictions_on_train_svc)"
   ]
  },
  {
   "cell_type": "code",
   "execution_count": 56,
   "id": "4c157b6e",
   "metadata": {},
   "outputs": [
    {
     "name": "stdout",
     "output_type": "stream",
     "text": [
      "              precision    recall  f1-score   support\n",
      "\n",
      "           1       0.79      0.78      0.79        59\n",
      "           2       0.94      0.98      0.96        52\n",
      "           3       0.79      0.77      0.78        57\n",
      "\n",
      "    accuracy                           0.84       168\n",
      "   macro avg       0.84      0.84      0.84       168\n",
      "weighted avg       0.84      0.84      0.84       168\n",
      "\n"
     ]
    }
   ],
   "source": [
    "from sklearn.metrics import classification_report\n",
    "\n",
    "print(classification_report(training_labels, predictions_on_train_svc))"
   ]
  },
  {
   "cell_type": "markdown",
   "id": "83017763",
   "metadata": {},
   "source": [
    "<a name='7'></a>\n",
    "\n",
    "# 7. Evaluating the Model on the Test Set"
   ]
  },
  {
   "cell_type": "code",
   "execution_count": 160,
   "id": "9065a82e",
   "metadata": {},
   "outputs": [
    {
     "data": {
      "text/html": [
       "<div>\n",
       "<style scoped>\n",
       "    .dataframe tbody tr th:only-of-type {\n",
       "        vertical-align: middle;\n",
       "    }\n",
       "\n",
       "    .dataframe tbody tr th {\n",
       "        vertical-align: top;\n",
       "    }\n",
       "\n",
       "    .dataframe thead th {\n",
       "        text-align: right;\n",
       "    }\n",
       "</style>\n",
       "<table border=\"1\" class=\"dataframe\">\n",
       "  <thead>\n",
       "    <tr style=\"text-align: right;\">\n",
       "      <th></th>\n",
       "      <th>Asymmetry coefficient</th>\n",
       "      <th>Length of kernel groove</th>\n",
       "      <th>Class</th>\n",
       "    </tr>\n",
       "  </thead>\n",
       "  <tbody>\n",
       "    <tr>\n",
       "      <th>134</th>\n",
       "      <td>4.972</td>\n",
       "      <td>5.847</td>\n",
       "      <td>2</td>\n",
       "    </tr>\n",
       "    <tr>\n",
       "      <th>5</th>\n",
       "      <td>2.462</td>\n",
       "      <td>4.956</td>\n",
       "      <td>1</td>\n",
       "    </tr>\n",
       "    <tr>\n",
       "      <th>13</th>\n",
       "      <td>3.136</td>\n",
       "      <td>4.872</td>\n",
       "      <td>1</td>\n",
       "    </tr>\n",
       "    <tr>\n",
       "      <th>46</th>\n",
       "      <td>1.367</td>\n",
       "      <td>5.132</td>\n",
       "      <td>1</td>\n",
       "    </tr>\n",
       "    <tr>\n",
       "      <th>62</th>\n",
       "      <td>3.220</td>\n",
       "      <td>4.605</td>\n",
       "      <td>1</td>\n",
       "    </tr>\n",
       "  </tbody>\n",
       "</table>\n",
       "</div>"
      ],
      "text/plain": [
       "     Asymmetry coefficient  Length of kernel groove  Class\n",
       "134                  4.972                    5.847      2\n",
       "5                    2.462                    4.956      1\n",
       "13                   3.136                    4.872      1\n",
       "46                   1.367                    5.132      1\n",
       "62                   3.220                    4.605      1"
      ]
     },
     "execution_count": 160,
     "metadata": {},
     "output_type": "execute_result"
    }
   ],
   "source": [
    "seeds_test.head()"
   ]
  },
  {
   "cell_type": "code",
   "execution_count": 159,
   "id": "2384892e",
   "metadata": {
    "scrolled": true
   },
   "outputs": [
    {
     "name": "stdout",
     "output_type": "stream",
     "text": [
      "<class 'pandas.core.frame.DataFrame'>\n",
      "Int64Index: 42 entries, 134 to 183\n",
      "Data columns (total 3 columns):\n",
      " #   Column                   Non-Null Count  Dtype  \n",
      "---  ------                   --------------  -----  \n",
      " 0   Asymmetry coefficient    42 non-null     float64\n",
      " 1   Length of kernel groove  42 non-null     float64\n",
      " 2   Class                    42 non-null     int64  \n",
      "dtypes: float64(2), int64(1)\n",
      "memory usage: 1.3 KB\n"
     ]
    }
   ],
   "source": [
    "seeds_test.info()"
   ]
  },
  {
   "cell_type": "code",
   "execution_count": 60,
   "id": "b5d1f83f",
   "metadata": {},
   "outputs": [],
   "source": [
    "X_test = seeds_test.drop('Class', axis=1)\n",
    "y_test = seeds_test['Class']\n",
    "\n",
    "X_test_prepared = scaler.transform(X_test)"
   ]
  },
  {
   "cell_type": "code",
   "execution_count": 170,
   "id": "268536cc",
   "metadata": {},
   "outputs": [
    {
     "data": {
      "text/plain": [
       "0.46028073044755063"
      ]
     },
     "execution_count": 170,
     "metadata": {},
     "output_type": "execute_result"
    }
   ],
   "source": [
    "X_test_prepared.mean()"
   ]
  },
  {
   "cell_type": "markdown",
   "id": "780bf6d0",
   "metadata": {},
   "source": [
    "#### Log Model Testing"
   ]
  },
  {
   "cell_type": "code",
   "execution_count": 138,
   "id": "a7ed2905",
   "metadata": {},
   "outputs": [],
   "source": [
    "log_t = log_model.score(X_test_prepared, y_test)"
   ]
  },
  {
   "cell_type": "code",
   "execution_count": 139,
   "id": "d0168c0b",
   "metadata": {},
   "outputs": [
    {
     "data": {
      "text/plain": [
       "0.9523809523809523"
      ]
     },
     "execution_count": 139,
     "metadata": {},
     "output_type": "execute_result"
    }
   ],
   "source": [
    "log_t"
   ]
  },
  {
   "cell_type": "markdown",
   "id": "d0416a32",
   "metadata": {},
   "source": [
    "#### SGD Testing"
   ]
  },
  {
   "cell_type": "code",
   "execution_count": 140,
   "id": "64ec6895",
   "metadata": {
    "scrolled": true
   },
   "outputs": [],
   "source": [
    "sgd_t = sgd_clf.score(X_test_prepared, y_test)"
   ]
  },
  {
   "cell_type": "code",
   "execution_count": 141,
   "id": "d2cc7168",
   "metadata": {},
   "outputs": [
    {
     "data": {
      "text/plain": [
       "0.9047619047619048"
      ]
     },
     "execution_count": 141,
     "metadata": {},
     "output_type": "execute_result"
    }
   ],
   "source": [
    "sgd_t"
   ]
  },
  {
   "cell_type": "markdown",
   "id": "cef67aec",
   "metadata": {},
   "source": [
    "#### Decission Tree Testing"
   ]
  },
  {
   "cell_type": "code",
   "execution_count": 142,
   "id": "ce852e84",
   "metadata": {},
   "outputs": [],
   "source": [
    "tree_t = tree_clf.score(X_test_prepared, y_test)"
   ]
  },
  {
   "cell_type": "code",
   "execution_count": 143,
   "id": "ed9206f0",
   "metadata": {},
   "outputs": [
    {
     "data": {
      "text/plain": [
       "0.9285714285714286"
      ]
     },
     "execution_count": 143,
     "metadata": {},
     "output_type": "execute_result"
    }
   ],
   "source": [
    "tree_t"
   ]
  },
  {
   "cell_type": "markdown",
   "id": "6e8c4deb",
   "metadata": {},
   "source": [
    "#### SVC Testing"
   ]
  },
  {
   "cell_type": "code",
   "execution_count": 144,
   "id": "87142607",
   "metadata": {},
   "outputs": [],
   "source": [
    "svc_t = lin_svc.score(X_test_prepared, y_test)"
   ]
  },
  {
   "cell_type": "code",
   "execution_count": 145,
   "id": "a73bcaeb",
   "metadata": {},
   "outputs": [
    {
     "data": {
      "text/plain": [
       "0.9523809523809523"
      ]
     },
     "execution_count": 145,
     "metadata": {},
     "output_type": "execute_result"
    }
   ],
   "source": [
    "svc_t"
   ]
  },
  {
   "cell_type": "markdown",
   "id": "20fd3aa3",
   "metadata": {},
   "source": [
    "#### Random Forest Testing"
   ]
  },
  {
   "cell_type": "code",
   "execution_count": 153,
   "id": "89688e45",
   "metadata": {
    "scrolled": false
   },
   "outputs": [],
   "source": [
    "rfc_t = forest_clf.score(X_test_prepared,y_test)"
   ]
  },
  {
   "cell_type": "code",
   "execution_count": 154,
   "id": "e774cda3",
   "metadata": {},
   "outputs": [
    {
     "data": {
      "text/plain": [
       "0.9047619047619048"
      ]
     },
     "execution_count": 154,
     "metadata": {},
     "output_type": "execute_result"
    }
   ],
   "source": [
    "rfc_t"
   ]
  },
  {
   "cell_type": "markdown",
   "id": "d2df38d4",
   "metadata": {},
   "source": [
    "---"
   ]
  },
  {
   "cell_type": "code",
   "execution_count": 156,
   "id": "a5da93e9",
   "metadata": {},
   "outputs": [
    {
     "data": {
      "text/html": [
       "<div>\n",
       "<style scoped>\n",
       "    .dataframe tbody tr th:only-of-type {\n",
       "        vertical-align: middle;\n",
       "    }\n",
       "\n",
       "    .dataframe tbody tr th {\n",
       "        vertical-align: top;\n",
       "    }\n",
       "\n",
       "    .dataframe thead th {\n",
       "        text-align: right;\n",
       "    }\n",
       "</style>\n",
       "<table border=\"1\" class=\"dataframe\">\n",
       "  <thead>\n",
       "    <tr style=\"text-align: right;\">\n",
       "      <th></th>\n",
       "      <th>log_model</th>\n",
       "      <th>sgd_clf</th>\n",
       "      <th>tree_clf</th>\n",
       "      <th>lin_svc</th>\n",
       "      <th>forest_clf</th>\n",
       "    </tr>\n",
       "  </thead>\n",
       "  <tbody>\n",
       "    <tr>\n",
       "      <th>train_acc</th>\n",
       "      <td>0.833333</td>\n",
       "      <td>0.839286</td>\n",
       "      <td>1.000000</td>\n",
       "      <td>0.845238</td>\n",
       "      <td>1.000000</td>\n",
       "    </tr>\n",
       "    <tr>\n",
       "      <th>train_eval</th>\n",
       "      <td>0.844485</td>\n",
       "      <td>0.803309</td>\n",
       "      <td>0.766912</td>\n",
       "      <td>0.838603</td>\n",
       "      <td>0.808824</td>\n",
       "    </tr>\n",
       "    <tr>\n",
       "      <th>test_eval</th>\n",
       "      <td>0.952381</td>\n",
       "      <td>0.904762</td>\n",
       "      <td>0.928571</td>\n",
       "      <td>0.952381</td>\n",
       "      <td>0.904762</td>\n",
       "    </tr>\n",
       "  </tbody>\n",
       "</table>\n",
       "</div>"
      ],
      "text/plain": [
       "            log_model   sgd_clf  tree_clf   lin_svc  forest_clf\n",
       "train_acc    0.833333  0.839286  1.000000  0.845238    1.000000\n",
       "train_eval   0.844485  0.803309  0.766912  0.838603    0.808824\n",
       "test_eval    0.952381  0.904762  0.928571  0.952381    0.904762"
      ]
     },
     "execution_count": 156,
     "metadata": {},
     "output_type": "execute_result"
    }
   ],
   "source": [
    "con = pd.DataFrame({'log_model':[log1,log2,log_t],\n",
    "                    'sgd_clf':[sgd1,sgd2,sgd_t],\n",
    "                    'tree_clf':[tree1,tree2,tree_t],\n",
    "                    'lin_svc':[svc1,svc2,svc_t],\n",
    "                    'forest_clf':[rfc1,rfc2,rfc_t]},\n",
    "                   index=['train_acc','train_eval','test_eval'])\n",
    "\n",
    "con"
   ]
  },
  {
   "cell_type": "markdown",
   "id": "fd17c9d8",
   "metadata": {},
   "source": [
    "#### Kesimpulan:\n",
    "\n",
    "Setelah melalui tahap klasifikasi dengan 5 model yaitu Linear Classifier, SGD, Decission Tree, Support Vector Classifier, dan Random Forest didapati hasil seperti dataframe diatas. Berdasarkan hasil tersebut, akurasi tertinggi ada pada Decission Tree dan Random Forest namun sudah dipastikan itu merupakan overfit. Hasil testing evaluation juga yang tertinggi adalah log_model dan lin_svc. Akurasi yang kami tetapkan untuk digunakan pada confussion metrics adalah log_model dan lin_svc, sehingga kami mendapati bahwa log_model merupakan yang terbaik."
   ]
  }
 ],
 "metadata": {
  "kernelspec": {
   "display_name": "Python 3 (ipykernel)",
   "language": "python",
   "name": "python3"
  },
  "language_info": {
   "codemirror_mode": {
    "name": "ipython",
    "version": 3
   },
   "file_extension": ".py",
   "mimetype": "text/x-python",
   "name": "python",
   "nbconvert_exporter": "python",
   "pygments_lexer": "ipython3",
   "version": "3.10.2"
  }
 },
 "nbformat": 4,
 "nbformat_minor": 5
}
